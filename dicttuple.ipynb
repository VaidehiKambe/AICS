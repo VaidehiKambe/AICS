{
  "nbformat": 4,
  "nbformat_minor": 0,
  "metadata": {
    "colab": {
      "provenance": [],
      "collapsed_sections": [],
      "authorship_tag": "ABX9TyO1UdhK5bFeqoZhBXOJwhE0"
    },
    "kernelspec": {
      "name": "python3",
      "display_name": "Python 3"
    },
    "language_info": {
      "name": "python"
    }
  },
  "cells": [
    {
      "cell_type": "code",
      "execution_count": 2,
      "metadata": {
        "colab": {
          "base_uri": "https://localhost:8080/"
        },
        "id": "JPyolviBIXX8",
        "outputId": "8be5e7f8-22e7-41ac-8eb6-db88e5035194"
      },
      "outputs": [
        {
          "output_type": "stream",
          "name": "stdout",
          "text": [
            "16\n",
            "{1: 1, 2: 4, 3: 9, 5: 25}\n",
            "(5, 25)\n",
            "{1: 1, 2: 4, 3: 9}\n",
            "{}\n"
          ]
        }
      ],
      "source": [
        "# Removing elements from a dictionary\n",
        "\n",
        "# create a dictionary\n",
        "squares = {1: 1, 2: 4, 3: 9, 4: 16, 5: 25}\n",
        "\n",
        "# remove a particular item, returns its value\n",
        "# Output: 16\n",
        "print(squares.pop(4))\n",
        "\n",
        "# Output: {1: 1, 2: 4, 3: 9, 5: 25}\n",
        "print(squares)\n",
        "\n",
        "# remove an arbitrary item, return (key,value)\n",
        "# Output: (5, 25)\n",
        "print(squares.popitem())\n",
        "\n",
        "# Output: {1: 1, 2: 4, 3: 9}\n",
        "print(squares)\n",
        "\n",
        "# remove all items\n",
        "squares.clear()\n",
        "\n",
        "# Output: {}\n",
        "print(squares)\n",
        "\n",
        "# delete the dictionary itself\n",
        "del squares"
      ]
    },
    {
      "cell_type": "code",
      "source": [
        "my_tuple = ()\n",
        "print(my_tuple)\n",
        "\n",
        "# Tuple having integers\n",
        "my_tuple = (1, 2, 3)\n",
        "print(my_tuple)"
      ],
      "metadata": {
        "colab": {
          "base_uri": "https://localhost:8080/"
        },
        "id": "89XTqmixJcle",
        "outputId": "57c56f90-3122-46d2-89a5-86322ac6123e"
      },
      "execution_count": 3,
      "outputs": [
        {
          "output_type": "stream",
          "name": "stdout",
          "text": [
            "()\n",
            "(1, 2, 3)\n"
          ]
        }
      ]
    },
    {
      "cell_type": "code",
      "source": [
        "# Negative indexing for accessing tuple elements\n",
        "my_tuple = ('p', 'e', 'r', 'm', 'i', 't')\n",
        "\n",
        "# Output: 't'\n",
        "print(my_tuple[-1])\n"
      ],
      "metadata": {
        "colab": {
          "base_uri": "https://localhost:8080/"
        },
        "id": "LnZmdrMuKIkk",
        "outputId": "1081e213-d517-4a43-f832-69871dcd80c2"
      },
      "execution_count": 4,
      "outputs": [
        {
          "output_type": "stream",
          "name": "stdout",
          "text": [
            "t\n"
          ]
        }
      ]
    },
    {
      "cell_type": "code",
      "source": [
        "# Code for concatenating 2 tuples\n",
        "  \n",
        "tuple1 = (0, 1, 2, 3)\n",
        "tuple2 = ('python', 'geek')\n",
        "  \n",
        "# Concatenating above two\n",
        "print(tuple1 + tuple2)"
      ],
      "metadata": {
        "colab": {
          "base_uri": "https://localhost:8080/"
        },
        "id": "g7mh3wGxKxD9",
        "outputId": "6b00970a-9de8-4c6a-e790-7da5740bf075"
      },
      "execution_count": 5,
      "outputs": [
        {
          "output_type": "stream",
          "name": "stdout",
          "text": [
            "(0, 1, 2, 3, 'python', 'geek')\n"
          ]
        }
      ]
    }
  ]
}